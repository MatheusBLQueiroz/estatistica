{
  "nbformat": 4,
  "nbformat_minor": 0,
  "metadata": {
    "colab": {
      "name": "EDD_Avaliacao_25-01-2020.ipynb",
      "provenance": [],
      "private_outputs": true,
      "collapsed_sections": [],
      "toc_visible": true
    },
    "kernelspec": {
      "name": "python3",
      "display_name": "Python 3"
    }
  },
  "cells": [
    {
      "cell_type": "markdown",
      "metadata": {
        "id": "Z-x7jkCvskDZ",
        "colab_type": "text"
      },
      "source": [
        "Especialização em Análise e Engenharia de Dados - Cesar School\n",
        "\n",
        "Disciplina: Estatística Descritiva dos Dados - Avaliação 2\n",
        "\n",
        "Professor: Tsang Ing Ren\n",
        "\n",
        "Monitor: José Ivson Soares da Silva\n",
        "\n",
        "Alunos:\n",
        "\n",
        "01. Cristiano Santana (Mat:3415)\n",
        "02. Matheus Queiroz (Mat: 3376)\n",
        "03. Nilton Coura (Mat: 3383)\n",
        "\n",
        "Cristiano Santana (3415) | Nilton Coura (3376) | Matheus Queiroz (3383)\n",
        "\n",
        "\n",
        "Fonte dos dados: arquivo divorse.csv disponível em https://raw.githubusercontent.com/joseivson/statistics/master/divorce.csv\n",
        "\n",
        "LINK PARA O ARQUIVO (GITHUB)\n",
        "\n",
        "https://github.com/MatheusBLQueiroz/estatistica\n",
        "\n",
        "https://raw.githubusercontent.com/MatheusBLQueiroz/Esp/master/PRSA.csv \n"
      ]
    },
    {
      "cell_type": "markdown",
      "metadata": {
        "id": "WHmVufQrz4vk",
        "colab_type": "text"
      },
      "source": [
        "AVALIAÇÃO 2: APLICAÇÃO DO TEOREMA DE BAYES PARA BASE DE DADOS \"divorse.csv\""
      ]
    },
    {
      "cell_type": "code",
      "metadata": {
        "id": "8Tr5vBBMsHo6",
        "colab_type": "code",
        "colab": {}
      },
      "source": [
        "# Import das bibliotecas a serem utitlzadas no exercício e conexão com a base de dados 'divorse.csv'\n",
        "\n",
        "import pandas as pd\n",
        "import numpy as np\n",
        "import matplotlib.pyplot as plt\n",
        "\n",
        "from sklearn.random_projection import GaussianRandomProjection\n",
        "\n",
        "df = pd.read_csv('https://raw.githubusercontent.com/joseivson/statistics/master/divorce.csv', sep=';', decimal=',', thousands='.', encoding='ISO-8859-1')"
      ],
      "execution_count": 0,
      "outputs": []
    },
    {
      "cell_type": "code",
      "metadata": {
        "id": "62hIhs5ws-sq",
        "colab_type": "code",
        "colab": {}
      },
      "source": [
        "# Apresentação inicial da base de dados \n",
        "df.head()"
      ],
      "execution_count": 0,
      "outputs": []
    },
    {
      "cell_type": "code",
      "metadata": {
        "id": "aSJDE7b-wHrB",
        "colab_type": "code",
        "colab": {}
      },
      "source": [
        "questions_list = ['Atr1','Atr2','Atr3','Atr4','Atr5','Atr6','Atr7','Atr8','Atr9','Atr10','Atr11','Atr12','Atr13','Atr14','Atr15','Atr16','Atr17','Atr18','Atr19','Atr20','Atr21','Atr22','Atr23','Atr24','Atr25','Atr26','Atr27','Atr28','Atr29','Atr30','Atr31','Atr32','Atr33','Atr34','Atr35','Atr36','Atr37','Atr38','Atr39','Atr40','Atr41','Atr42','Atr43','Atr44','Atr45','Atr46','Atr47','Atr48','Atr49','Atr50','Atr51','Atr52','Atr53','Atr54']\n",
        "\n",
        "# A probabilidade a ser calculada terá como base 7 questões escolhidas de forma aleatória.\n",
        "index_question = np.random.randint(low=0, high=53, size=7)\n",
        "dataset = df.loc[:,['Atr'+str(index_question[0]), 'Atr'+str(index_question[1]), 'Atr'+str(index_question[2]), 'Atr'+str(index_question[3]), 'Atr'+str(index_question[4]), 'Atr'+str(index_question[5]), 'Atr'+str(index_question[6]), 'Class']]\n",
        "\n",
        "print('index_question: ', index_question)"
      ],
      "execution_count": 0,
      "outputs": []
    },
    {
      "cell_type": "code",
      "metadata": {
        "id": "sFmcD6GjGiv0",
        "colab_type": "code",
        "colab": {}
      },
      "source": [
        "dataset.head()"
      ],
      "execution_count": 0,
      "outputs": []
    },
    {
      "cell_type": "code",
      "metadata": {
        "id": "uqxHGLTgyB8h",
        "colab_type": "code",
        "colab": {}
      },
      "source": [
        "dataset.shape"
      ],
      "execution_count": 0,
      "outputs": []
    },
    {
      "cell_type": "code",
      "metadata": {
        "id": "ZzASoDAuN71H",
        "colab_type": "code",
        "colab": {}
      },
      "source": [
        "# Separate by class\n",
        "def separate_by_class(dataset):\n",
        "  classes = np.unique(dataset['Class'])\n",
        "\n",
        "  separated = []\n",
        "  for cl in classes:\n",
        "    separated.append(dataset[dataset['Class'] == cl])\n",
        "\n",
        "  return separated\n",
        "\n",
        "separated = separate_by_class(dataset)"
      ],
      "execution_count": 0,
      "outputs": []
    },
    {
      "cell_type": "code",
      "metadata": {
        "id": "y_0g1WUzLlQ5",
        "colab_type": "code",
        "colab": {}
      },
      "source": [
        "# Summarize data\n",
        "# Calculate the mean, stdev and count for each column in a dataset\n",
        "def summarize_dataset(dataset, eliminate_last=True):\n",
        "  if eliminate_last:\n",
        "    columns = dataset.columns[:-1]\n",
        "  else:\n",
        "    columns = dataset.columns\n",
        "  summaries = [(np.mean(dataset[column]), np.std(dataset[column]), len(dataset[column])) for column in dataset.columns]\n",
        "  del(summaries[-1])\n",
        "  return summaries\n",
        "\n",
        "summaries = summarize_dataset(dataset)\n",
        "\n",
        "print(summaries)"
      ],
      "execution_count": 0,
      "outputs": []
    },
    {
      "cell_type": "code",
      "metadata": {
        "id": "51yWG3NuMJK7",
        "colab_type": "code",
        "colab": {}
      },
      "source": [
        "# Summarize data by class\n",
        "def summarize_by_class(dataset):\n",
        "  separated = separate_by_class(dataset)\n",
        "  summaries = dict()\n",
        "  for s in separated:\n",
        "    class_value = np.array(s['Class'])\n",
        "    rows = s[s.columns]\n",
        "    summaries[class_value[0]] = summarize_dataset(rows, eliminate_last=False)\n",
        "  return summaries\n",
        "\n",
        "summaries_by_class = summarize_by_class(dataset)\n",
        "print(summaries_by_class)"
      ],
      "execution_count": 0,
      "outputs": []
    },
    {
      "cell_type": "code",
      "metadata": {
        "id": "BBzumoJOMZVJ",
        "colab_type": "code",
        "colab": {}
      },
      "source": [
        "# Gaussian probability\n",
        "def calculate_probability(x, mean, stdev):\n",
        "\texponent = np.exp(-((x-mean)**2 / (2 * stdev**2 )))\n",
        "\treturn (1 / (np.sqrt(2 * np.pi) * stdev)) * exponent"
      ],
      "execution_count": 0,
      "outputs": []
    },
    {
      "cell_type": "code",
      "metadata": {
        "id": "OTK1fnlLOT0p",
        "colab_type": "code",
        "colab": {}
      },
      "source": [
        " print(index_question)"
      ],
      "execution_count": 0,
      "outputs": []
    },
    {
      "cell_type": "code",
      "metadata": {
        "id": "Z5RQxqCWMqDJ",
        "colab_type": "code",
        "colab": {}
      },
      "source": [
        "# Probability distribution of \"Divorse\"\n",
        "x = np.arange(-4.5,10,0.1)\n",
        "for summ in summaries:\n",
        "  y = calculate_probability(x, summ[0], summ[1])\n",
        "  plt.plot(x,y)\n",
        "\n",
        "plt.legend(['Atr'+str(index_question[0]), 'Atr'+str(index_question[1]), 'Atr'+str(index_question[2]), 'Atr'+str(index_question[3]), 'Atr'+str(index_question[4]), 'Atr'+str(index_question[5]), 'Atr'+str(index_question[6])])"
      ],
      "execution_count": 0,
      "outputs": []
    },
    {
      "cell_type": "code",
      "metadata": {
        "id": "ig42YOz2Ur1k",
        "colab_type": "code",
        "colab": {}
      },
      "source": [
        "# Probability distribution by class\n",
        "n_classes = len(summaries_by_class)\n",
        "fig,ax = plt.subplots(1,n_classes)\n",
        "fig.set_size_inches(18, h=6)\n",
        "\n",
        "classes_name = ['Casados', 'Não casados']\n",
        "for c in range(n_classes):\n",
        "  for summ in summaries_by_class[c]:\n",
        "    ax[c].plot(x, calculate_probability(x, summ[0], summ[1]))\n",
        "  ax[c].set_title(classes_name[c])\n",
        "\n",
        "fig.legend(['Atr'+str(index_question[0]), 'Atr'+str(index_question[1]), 'Atr'+str(index_question[2]), 'Atr'+str(index_question[3]), 'Atr'+str(index_question[4]), 'Atr'+str(index_question[5]), 'Atr'+str(index_question[6])])\n"
      ],
      "execution_count": 0,
      "outputs": []
    },
    {
      "cell_type": "code",
      "metadata": {
        "id": "Aa8FpaJIubmY",
        "colab_type": "code",
        "colab": {}
      },
      "source": [
        "# Calculate accuracy percentage\n",
        "def accuracy_metric(actual, predicted):\n",
        "\tcorrect = 0\n",
        "\tfor i in range(len(actual)):\n",
        "\t\tif actual[i] == predicted[i]:\n",
        "\t\t\tcorrect += 1\n",
        "\treturn correct / float(len(actual)) * 100.0"
      ],
      "execution_count": 0,
      "outputs": []
    },
    {
      "cell_type": "code",
      "metadata": {
        "id": "EGrmuZHRqAoO",
        "colab_type": "code",
        "colab": {}
      },
      "source": [
        "# Calculate the probabilities of predicting each class for a given row\n",
        "def calculate_class_probabilities(summaries, row):\n",
        "  total_rows = sum([summaries[label][0][2] for label in summaries])\n",
        "  probabilities = dict()\n",
        "  for class_value, class_summaries in summaries.items():\n",
        "    probabilities[class_value] = summaries[class_value][0][2]/float(total_rows)\n",
        "    for i in range(len(class_summaries)):\n",
        "      mean, stdev, count = class_summaries[i]\n",
        "      probabilities[class_value] *= calculate_probability(row[i], mean, stdev)\n",
        "  return probabilities"
      ],
      "execution_count": 0,
      "outputs": []
    },
    {
      "cell_type": "code",
      "metadata": {
        "id": "ALwlsOPwuQqq",
        "colab_type": "code",
        "colab": {}
      },
      "source": [
        "# Predict the class for a given row\n",
        "def predict(summaries, row):\n",
        "\n",
        "\tprobabilities = calculate_class_probabilities(summaries, row)\n",
        "\tbest_label, best_prob = None, -1\n",
        "\tfor class_value, probability in probabilities.items():\n",
        "\t\tif best_label is None or probability > best_prob:\n",
        "\t\t\tbest_prob = probability\n",
        "\t\t\tbest_label = class_value\n",
        "\treturn best_label"
      ],
      "execution_count": 0,
      "outputs": []
    },
    {
      "cell_type": "code",
      "metadata": {
        "id": "ehhiSFcjLWq4",
        "colab_type": "code",
        "colab": {}
      },
      "source": [
        "# Split the dataset\n",
        "def split(dataset):\n",
        "  sz = dataset.shape[0]\n",
        "  sh = np.arange(sz)\n",
        "  np.random.shuffle(sh)\n",
        "  vec = np.zeros((sz),dtype=bool)\n",
        "  vec[sh[:int(sz*0.75)]] = True\n",
        "  train = dataset.loc[vec]\n",
        "  test = dataset.loc[~vec]\n",
        "\n",
        "  return train, test\n"
      ],
      "execution_count": 0,
      "outputs": []
    },
    {
      "cell_type": "code",
      "metadata": {
        "id": "h2H8yCmLXn4l",
        "colab_type": "code",
        "colab": {}
      },
      "source": [
        "train,test = split(dataset)"
      ],
      "execution_count": 0,
      "outputs": []
    },
    {
      "cell_type": "code",
      "metadata": {
        "id": "sOGM8TwiuFJt",
        "colab_type": "code",
        "colab": {}
      },
      "source": [
        "# Naive Bayes Algorithm\n",
        "def naive_bayes(train, test):\n",
        "  summarize = summarize_by_class(train)\n",
        "  predictions = list()\n",
        "  vec = np.zeros(test.shape[0], dtype=bool)\n",
        "  for i in range(test.shape[0]):\n",
        "    vec[i] = True\n",
        "    row = np.array(test.loc[vec])[0]\n",
        "    output = predict(summarize, row)\n",
        "    predictions.append(output)\n",
        "    vec[i] = False\n",
        "  return(predictions)"
      ],
      "execution_count": 0,
      "outputs": []
    },
    {
      "cell_type": "code",
      "metadata": {
        "id": "Cx9QaXP0M8gN",
        "colab_type": "code",
        "colab": {}
      },
      "source": [
        "predictions = naive_bayes(train,test)\n",
        "\n",
        "print(predictions)\n",
        "actual = np.array(test['Class'])\n",
        "print(actual)\n",
        "\n",
        "print('')\n",
        "print('Resultado do cálculo da probalidade baseada na aplicação do Teorema de Bayes')\n",
        "print('Accuracy >>>', accuracy_metric(actual, predictions))"
      ],
      "execution_count": 0,
      "outputs": []
    }
  ]
}